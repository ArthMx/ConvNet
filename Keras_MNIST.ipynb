{
 "cells": [
  {
   "cell_type": "code",
   "execution_count": 1,
   "metadata": {},
   "outputs": [
    {
     "name": "stderr",
     "output_type": "stream",
     "text": [
      "Using TensorFlow backend.\n"
     ]
    }
   ],
   "source": [
    "import numpy as np\n",
    "import keras\n",
    "from keras.models import Sequential\n",
    "from keras.layers import Dense, Dropout, Flatten, Conv2D, MaxPool2D"
   ]
  },
  {
   "cell_type": "markdown",
   "metadata": {},
   "source": [
    "## Load MNIST dataset"
   ]
  },
  {
   "cell_type": "code",
   "execution_count": 2,
   "metadata": {},
   "outputs": [
    {
     "name": "stdout",
     "output_type": "stream",
     "text": [
      "X shape : (70000, 28, 28, 1)\n",
      "y shape : (70000, 10)\n",
      "number of training sample : 60000\n",
      "number of testing sample : 10000\n"
     ]
    }
   ],
   "source": [
    "from sklearn.datasets import fetch_mldata\n",
    "from sklearn.model_selection import train_test_split\n",
    "\n",
    "mnist = fetch_mldata('MNIST original')\n",
    "\n",
    "X = mnist.data\n",
    "y = mnist.target\n",
    "\n",
    "def preprocess_mnist(X, y):\n",
    "    X_out = X.reshape((X.shape[0], 28, 28, 1))\n",
    "    X_out = X_out/256\n",
    "    y_out = keras.utils.to_categorical(y, 10)\n",
    "    return X_out, y_out\n",
    "\n",
    "X, y = preprocess_mnist(X, y)\n",
    "print('X shape :', X.shape)\n",
    "print('y shape :', y.shape)\n",
    "\n",
    "X_train, X_test, y_train, y_test = train_test_split(X, y, test_size=10000, random_state=42)\n",
    "print('number of training sample :', len(X_train))\n",
    "print('number of testing sample :', len(X_test))"
   ]
  },
  {
   "cell_type": "markdown",
   "metadata": {},
   "source": [
    "## Define the VGG-like model"
   ]
  },
  {
   "cell_type": "code",
   "execution_count": 3,
   "metadata": {},
   "outputs": [
    {
     "name": "stdout",
     "output_type": "stream",
     "text": [
      "Train on 48000 samples, validate on 12000 samples\n",
      "Epoch 1/10\n",
      "48000/48000 [==============================] - 8s 165us/step - loss: 0.2320 - acc: 0.9264 - val_loss: 0.0464 - val_acc: 0.9863\n",
      "Epoch 2/10\n",
      "48000/48000 [==============================] - 6s 126us/step - loss: 0.0645 - acc: 0.9808 - val_loss: 0.0380 - val_acc: 0.9879\n",
      "Epoch 3/10\n",
      "48000/48000 [==============================] - 6s 126us/step - loss: 0.0459 - acc: 0.9865 - val_loss: 0.0475 - val_acc: 0.9865\n",
      "Epoch 4/10\n",
      "48000/48000 [==============================] - 6s 127us/step - loss: 0.0332 - acc: 0.9900 - val_loss: 0.0318 - val_acc: 0.9896\n",
      "Epoch 5/10\n",
      "48000/48000 [==============================] - 6s 126us/step - loss: 0.0275 - acc: 0.9910 - val_loss: 0.0477 - val_acc: 0.9875\n",
      "Epoch 6/10\n",
      "48000/48000 [==============================] - 6s 128us/step - loss: 0.0225 - acc: 0.9927 - val_loss: 0.0325 - val_acc: 0.9918\n",
      "Epoch 7/10\n",
      "48000/48000 [==============================] - 6s 128us/step - loss: 0.0188 - acc: 0.9937 - val_loss: 0.0331 - val_acc: 0.9909\n",
      "Epoch 8/10\n",
      "48000/48000 [==============================] - 6s 127us/step - loss: 0.0179 - acc: 0.9942 - val_loss: 0.0304 - val_acc: 0.9906\n",
      "Epoch 9/10\n",
      "48000/48000 [==============================] - 6s 123us/step - loss: 0.0140 - acc: 0.9955 - val_loss: 0.0395 - val_acc: 0.9909\n",
      "Epoch 10/10\n",
      "48000/48000 [==============================] - 6s 123us/step - loss: 0.0120 - acc: 0.9959 - val_loss: 0.0341 - val_acc: 0.9914\n"
     ]
    },
    {
     "data": {
      "text/plain": [
       "<keras.callbacks.History at 0x15afe3b6d68>"
      ]
     },
     "execution_count": 3,
     "metadata": {},
     "output_type": "execute_result"
    }
   ],
   "source": [
    "model = Sequential()\n",
    "\n",
    "model.add(Conv2D(32, (3,3), activation='relu', padding='same', input_shape=(28,28,1)))\n",
    "model.add(Conv2D(32, (3,3), activation='relu', padding='same'))\n",
    "model.add(MaxPool2D((2,2), strides=2))\n",
    "\n",
    "model.add(Conv2D(64, (3,3), activation='relu', padding='same'))\n",
    "model.add(Conv2D(64, (3,3), activation='relu', padding='same'))\n",
    "model.add(MaxPool2D((2,2), strides=2))\n",
    "\n",
    "model.add(Flatten())\n",
    "model.add(Dense(256, activation='relu'))\n",
    "model.add(Dropout(0.5))\n",
    "model.add(Dense(10, activation='softmax'))\n",
    "\n",
    "model.compile(optimizer='adam', loss=keras.losses.categorical_crossentropy, metrics=['accuracy'])\n",
    "\n",
    "model.fit(X_train, y_train, batch_size=128, epochs=10, validation_split=0.2)"
   ]
  },
  {
   "cell_type": "markdown",
   "metadata": {},
   "source": [
    "## Adding data augmentation\n",
    "\n",
    "Add random rotation to the training data."
   ]
  },
  {
   "cell_type": "code",
   "execution_count": 4,
   "metadata": {},
   "outputs": [],
   "source": [
    "from keras.preprocessing.image import ImageDataGenerator\n",
    "\n",
    "X_train_gen, X_val, y_train_gen, y_val = train_test_split(X, y, test_size=0.2, random_state=42)\n",
    "\n",
    "generator = ImageDataGenerator(rotation_range=15)\n",
    "train_generator = generator.flow(X_train, y_train, batch_size=128)\n",
    "\n",
    "val_generator = ImageDataGenerator().flow(X_val, y_val, batch_size=128)"
   ]
  },
  {
   "cell_type": "code",
   "execution_count": 5,
   "metadata": {},
   "outputs": [
    {
     "name": "stdout",
     "output_type": "stream",
     "text": [
      "Epoch 1/10\n",
      "375/375 [==============================] - 7s 18ms/step - loss: 0.0392 - acc: 0.9878 - val_loss: 0.1008 - val_acc: 0.9766\n",
      "Epoch 2/10\n",
      "375/375 [==============================] - 7s 18ms/step - loss: 0.0296 - acc: 0.9908 - val_loss: 0.0304 - val_acc: 0.9844\n",
      "Epoch 3/10\n",
      "375/375 [==============================] - 7s 18ms/step - loss: 0.0270 - acc: 0.9919 - val_loss: 0.0369 - val_acc: 0.9922\n",
      "Epoch 4/10\n",
      "375/375 [==============================] - 7s 18ms/step - loss: 0.0247 - acc: 0.9930 - val_loss: 0.0674 - val_acc: 0.9766\n",
      "Epoch 5/10\n",
      "375/375 [==============================] - 7s 17ms/step - loss: 0.0224 - acc: 0.9932 - val_loss: 0.0292 - val_acc: 0.9844\n",
      "Epoch 6/10\n",
      "375/375 [==============================] - 7s 18ms/step - loss: 0.0203 - acc: 0.9935 - val_loss: 0.0609 - val_acc: 0.9688\n",
      "Epoch 7/10\n",
      "375/375 [==============================] - 7s 18ms/step - loss: 0.0192 - acc: 0.9939 - val_loss: 0.0401 - val_acc: 0.9766\n",
      "Epoch 8/10\n",
      "375/375 [==============================] - 7s 17ms/step - loss: 0.0194 - acc: 0.9944 - val_loss: 0.0389 - val_acc: 0.9844\n",
      "Epoch 9/10\n",
      "375/375 [==============================] - 7s 18ms/step - loss: 0.0178 - acc: 0.9948 - val_loss: 0.0161 - val_acc: 0.9922\n",
      "Epoch 10/10\n",
      "375/375 [==============================] - 7s 18ms/step - loss: 0.0165 - acc: 0.9948 - val_loss: 0.0287 - val_acc: 0.9844\n"
     ]
    },
    {
     "data": {
      "text/plain": [
       "<keras.callbacks.History at 0x15ae0104320>"
      ]
     },
     "execution_count": 5,
     "metadata": {},
     "output_type": "execute_result"
    }
   ],
   "source": [
    "model.fit_generator(train_generator, steps_per_epoch=375, epochs=10, validation_data=val_generator, validation_steps=1)"
   ]
  },
  {
   "cell_type": "code",
   "execution_count": null,
   "metadata": {},
   "outputs": [],
   "source": []
  }
 ],
 "metadata": {
  "kernelspec": {
   "display_name": "Python [conda env:Anaconda3]",
   "language": "python",
   "name": "conda-env-Anaconda3-py"
  },
  "language_info": {
   "codemirror_mode": {
    "name": "ipython",
    "version": 3
   },
   "file_extension": ".py",
   "mimetype": "text/x-python",
   "name": "python",
   "nbconvert_exporter": "python",
   "pygments_lexer": "ipython3",
   "version": "3.6.4"
  }
 },
 "nbformat": 4,
 "nbformat_minor": 2
}
